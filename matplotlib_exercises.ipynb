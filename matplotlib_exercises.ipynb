{
 "cells": [
  {
   "cell_type": "markdown",
   "metadata": {},
   "source": [
    "# Exercises"
   ]
  },
  {
   "cell_type": "markdown",
   "metadata": {},
   "source": [
    "1. Use matplotlib to plot the following equation:\n",
    "    y = x ** 2 - x + 2\n",
    "\n",
    "    You'll need to write the code that generates the x and y points.\n",
    "\n",
    "    Add an anotation for the point 0, 0, the origin."
   ]
  },
  {
   "cell_type": "markdown",
   "metadata": {},
   "source": []
  },
  {
   "cell_type": "markdown",
   "metadata": {},
   "source": [
    "2. Create and label 4 separate charts for the following equations (choose a range for x that makes sense):\n",
    "\n",
    "    y = √x\n",
    "    y = x ** 3\n",
    "    y = 2 ^ x\n",
    "    y = 1/(x + 1)\n",
    "\n",
    "    You can use functions from the math module to help implement some of the equations above."
   ]
  },
  {
   "cell_type": "markdown",
   "metadata": {},
   "source": [
    "3. Combine the figures you created in the last step into one large figure with 4 subplots."
   ]
  },
  {
   "cell_type": "markdown",
   "metadata": {},
   "source": [
    "4. Combine the figures you created in the last step into one figure where each of the 4 equations has a different color for\n",
    "    the points. Be sure to include a legend and an appropriate title for the figure."
   ]
  },
  {
   "cell_type": "markdown",
   "metadata": {},
   "source": [
    "5. Make a new Jupyter notebook named big_o_notation.ipynb\n",
    "    - Title your chart \"Big O Notation\"\n",
    "    - Label your x axis \"Elements\"\n",
    "    - Label your y axis \"Operations\"\n",
    "    - Label your curves or make a legend for the curves\n",
    "    - Use LaTex notation where possible\n",
    "\n",
    "Curves to graph\n"
   ]
  },
  {
   "cell_type": "markdown",
   "metadata": {},
   "source": []
  },
  {
   "cell_type": "markdown",
   "metadata": {},
   "source": [
    "6. Bonus Write the code necessary to write your name on a chart. Use box letters.\n",
    "\n",
    "7. Bonus: use curves for letters in your name that have curves in them."
   ]
  },
  {
   "cell_type": "markdown",
   "metadata": {},
   "source": []
  }
 ],
 "metadata": {
  "kernelspec": {
   "display_name": "Python 3.9.6 64-bit",
   "language": "python",
   "name": "python3"
  },
  "language_info": {
   "codemirror_mode": {
    "name": "ipython",
    "version": 3
   },
   "file_extension": ".py",
   "mimetype": "text/x-python",
   "name": "python",
   "nbconvert_exporter": "python",
   "pygments_lexer": "ipython3",
   "version": "3.9.6"
  },
  "orig_nbformat": 4,
  "vscode": {
   "interpreter": {
    "hash": "31f2aee4e71d21fbe5cf8b01ff0e069b9275f58929596ceb00d14d90e3e16cd6"
   }
  }
 },
 "nbformat": 4,
 "nbformat_minor": 2
}
